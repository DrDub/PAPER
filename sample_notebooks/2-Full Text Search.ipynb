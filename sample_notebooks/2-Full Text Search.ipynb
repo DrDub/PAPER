{
 "cells": [
  {
   "cell_type": "markdown",
   "metadata": {},
   "source": [
    "# Create a test repo\n",
    "\n",
    "This mimicks the code in `tests/test_search.py`"
   ]
  },
  {
   "cell_type": "code",
   "execution_count": 1,
   "metadata": {},
   "outputs": [],
   "source": [
    "! rm -rf data/paper-model2.yaml data/files data/index\n",
    "! mkdir data/files\n",
    "! mkdir data/index"
   ]
  },
  {
   "cell_type": "code",
   "execution_count": 2,
   "metadata": {},
   "outputs": [],
   "source": [
    "from paperapp.paper_repo import PaperRepo\n",
    "from paperapp.paper_ipython import *\n",
    "from paperapp.paper_bibtex import import_bibtex\n",
    "\n",
    "p = PaperRepo(\"data/paper-model2.yaml\", \"data/files\", \"data/index\", auto_save=True)"
   ]
  },
  {
   "cell_type": "code",
   "execution_count": 3,
   "metadata": {},
   "outputs": [
    {
     "name": "stdout",
     "output_type": "stream",
     "text": [
      "Imported  44  entries\n",
      "Index contains 14  files\n"
     ]
    }
   ],
   "source": [
    "ids = import_bibtex(p, os.path.join('..', 'tests', 'duboue.bib'), verbose=False, create_papers=True)\n",
    "\n",
    "bib_to_paper = {}\n",
    "for paper_id in ids:\n",
    "    paper = p[paper_id]\n",
    "    bib_to_paper[paper['bibtex']['id']] = paper\n",
    "\n",
    "ondisk = [ ( 'duboue2019dialect', 'CLEI2019dialect.pdf' ),\n",
    "           ( 'ying-duboue-2019-rationale', 'W19-5503.pdf' ),\n",
    "           ( 'duboue2018choice', 'ASAI2018choice.pdf' ),\n",
    "           ( 'Duboue_al_2013' , '05-NTCIR10-1CLICK-PabloD.pdf' ),\n",
    "           ( 'duboue_2013_ENLG2', 'W13-2129.pdf' ),\n",
    "           ( 'Jing_al_12', 'C12-1069.pdf' ),\n",
    "           ( 'Pacheco_al_12', 'N12-1082.pdf' ),\n",
    "           ( 'Duboue_12', 'INLG2012duboue.pdf' ),\n",
    "           ( 'Ferrucci_al_08', 'rc24789.pdf' ),\n",
    "           ( 'Duboue_Chu-Carrol_06', 'N06-2009.pdf' ),\n",
    "           ( 'Prager_al_06', 'P06-1135.pdf' ),\n",
    "           ( 'Duboue_McKeown_03a', 'W03-1016.pdf' ),\n",
    "           ( 'Costa_Duboue_04', 'ASAI04distributed.pdf' ),\n",
    "           ( 'Hatzivassiloglou_al_01a', 'ISMB2001disambiguation.pdf' ) ]\n",
    "    \n",
    "for entry, fname in ondisk:\n",
    "    bib_to_paper[entry]['on-disk'] = p.register_file(os.path.join(\"..\", \"tests\", fname))\n",
    "    \n",
    "print(\"Imported \", len(ids), \" entries\")\n",
    "print(\"Index contains\", len(ondisk), \" files\")"
   ]
  },
  {
   "cell_type": "markdown",
   "metadata": {},
   "source": [
    "## Access the extracted text"
   ]
  },
  {
   "cell_type": "code",
   "execution_count": 4,
   "metadata": {},
   "outputs": [
    {
     "name": "stdout",
     "output_type": "stream",
     "text": [
      "RC24789 (W0904-093) April 22, 2009\n",
      "Computer Science\n",
      "\n",
      "\n",
      "\n",
      "\n",
      "                        IBM Research Report\n",
      "             Towards the Open Advancement of Question\n",
      "                         Answering Systems\n",
      "\n",
      "   David Ferrucci1, Eric Nyberg2, James Allan3, Ken Barker4, Eric Brown1,\n",
      "    Jennifer Chu-Carroll1, Arthur Ciccolo1, Pablo Duboue1, James Fan1,\n",
      " David Gondek1, Eduard Hovy5, Boris Katz6, Adam Lally1, Michael McCord1,\n",
      "       Paul Morarescu1, Bill Murdock1, Bruce Porter4, John Prager1,\n",
      "          Tomek \n"
     ]
    }
   ],
   "source": [
    "print(p.text(bib_to_paper['Ferrucci_al_08'])[:500])"
   ]
  },
  {
   "cell_type": "markdown",
   "metadata": {},
   "source": [
    "## Similarity-based queries"
   ]
  },
  {
   "cell_type": "code",
   "execution_count": 5,
   "metadata": {},
   "outputs": [
    {
     "name": "stdout",
     "output_type": "stream",
     "text": [
      "Papers similar to  Towards the Open Advancement of Question Answering Systems -- David Ferrucci and Eric Nyberg and James Allen and Ken Barker and Eric W. Brown and Jennifer Chu-Carroll and Arthur Ciccolo and Pablo A. Duboue and James Fan and David Gondek and Edward Hovy and Boris Katz and Adam Lally and Michael McCord and Paul Morarescu and J. William Murdock and Bruce Porter and John M. Prager and Tomek Strzalkowski and Christopher Welty and Wlodek Zadrozny \n",
      "\n",
      "\t 1 \t Improving {QA} Accuracy by Question Inversion -- John M. Prager and Pablo A. Duboue and Jennifer Chu-Carroll\n",
      "\t 2 \t Answering the question you wish they had asked: The impact of paraphrasing for Question Answering -- Pablo A. Duboue and Jennifer Chu-Carroll\n",
      "\t 3 \t Hunter Gatherer: UdeM at 1Click-2 -- Duboue, Pablo and He, Jing and Nie, Jian-Yun\n",
      "\t 4 \t Bridging the Gap between Intrinsic and Perceived Relevance in Snippet Generation -- He, Jing and Duboue, Pablo and Nie,  Jian-Yun\n",
      "\t 5 \t Disambiguating Proteins, Genes, and {RNA} in Text: A Machine Learning Approach -- Vasileios Hatzivassiloglou and Pablo A. Duboue and Andrey Rzhetsky\n",
      "\t 6 \t Rationale Classification for Educational Trading Platforms -- Ying, Annie  and  Duboue, Pablo\n",
      "\t 7 \t Deobfuscating Name Scrambling as a Natural Language Generation Task -- Duboue, Pablo Ariel\n",
      "\t 8 \t Impact of Spanish Dialect in Deep Learning Next Sentence Predictors -- Duboue, Pablo Ariel\n",
      "\t 9 \t On The Feasibility of Open Domain Referring Expression Generation Using Large Scale Folksonomies -- Pacheco, Fabian  and  Duboue, Pablo  and  Dominguez, Martin\n",
      "\t 10 \t Distributed Ontological Encoding Through Symbol Recirculation -- Maria Jimena Costa and Pablo A. Duboue\n",
      "\t 11 \t Statistical Acquisition of Content Selection Rules for Natural Language Generation -- Pablo A. Duboue and Kathleen R. McKeown\n",
      "\t 12 \t Thoughtland: Natural Language Descriptions for Machine Learning n-dimensional Error Functions -- Duboue, Pablo\n",
      "\t 13 \t Extractive email thread summarization: Can we do better than He Said She Said? -- Pablo A. Duboue\n"
     ]
    }
   ],
   "source": [
    "base = bib_to_paper['Ferrucci_al_08']\n",
    "results = p.similarto(base)\n",
    "print(\"Papers similar to \", base['text'],\"\\n\")\n",
    "for idx, pp in enumerate(results):\n",
    "    print(\"\\t\", (idx+1), \"\\t\", pp['paper']['text'])"
   ]
  },
  {
   "cell_type": "code",
   "execution_count": 6,
   "metadata": {},
   "outputs": [
    {
     "name": "stdout",
     "output_type": "stream",
     "text": [
      "Papers similar to  Distributed Ontological Encoding Through Symbol Recirculation -- Maria Jimena Costa and Pablo A. Duboue \n",
      "\n",
      "\t 1 \t Rationale Classification for Educational Trading Platforms -- Ying, Annie  and  Duboue, Pablo\n",
      "\t 2 \t Impact of Spanish Dialect in Deep Learning Next Sentence Predictors -- Duboue, Pablo Ariel\n",
      "\t 3 \t Disambiguating Proteins, Genes, and {RNA} in Text: A Machine Learning Approach -- Vasileios Hatzivassiloglou and Pablo A. Duboue and Andrey Rzhetsky\n",
      "\t 4 \t Improving {QA} Accuracy by Question Inversion -- John M. Prager and Pablo A. Duboue and Jennifer Chu-Carroll\n",
      "\t 5 \t Deobfuscating Name Scrambling as a Natural Language Generation Task -- Duboue, Pablo Ariel\n"
     ]
    }
   ],
   "source": [
    "base = bib_to_paper['Costa_Duboue_04']\n",
    "results = p.similarto(base, limit=5)\n",
    "print(\"Papers similar to \", base['text'],\"\\n\")\n",
    "for idx, pp in enumerate(results):\n",
    "    print(\"\\t\", (idx+1), \"\\t\", pp['paper']['text'])"
   ]
  },
  {
   "cell_type": "markdown",
   "metadata": {},
   "source": [
    "## Text queries"
   ]
  },
  {
   "cell_type": "code",
   "execution_count": 7,
   "metadata": {},
   "outputs": [
    {
     "name": "stdout",
     "output_type": "stream",
     "text": [
      "\t 1 \t Answering the question you wish they had asked: The impact of paraphrasing for Question Answering -- Pablo A. Duboue and Jennifer Chu-Carroll\n",
      "\t 2 \t Improving {QA} Accuracy by Question Inversion -- John M. Prager and Pablo A. Duboue and Jennifer Chu-Carroll\n",
      "\t 3 \t Towards the Open Advancement of Question Answering Systems -- David Ferrucci and Eric Nyberg and James Allen and Ken Barker and Eric W. Brown and Jennifer Chu-Carroll and Arthur Ciccolo and Pablo A. Duboue and James Fan and David Gondek and Edward Hovy and Boris Katz and Adam Lally and Michael McCord and Paul Morarescu and J. William Murdock and Bruce Porter and John M. Prager and Tomek Strzalkowski and Christopher Welty and Wlodek Zadrozny\n",
      "\t 4 \t Hunter Gatherer: UdeM at 1Click-2 -- Duboue, Pablo and He, Jing and Nie, Jian-Yun\n",
      "\t 5 \t Extractive email thread summarization: Can we do better than He Said She Said? -- Pablo A. Duboue\n"
     ]
    }
   ],
   "source": [
    "for idx, pp in enumerate(p.search(\"question answering\", limit=5)):\n",
    "    print(\"\\t\", (idx+1), \"\\t\", pp['paper']['text'])"
   ]
  },
  {
   "cell_type": "code",
   "execution_count": 8,
   "metadata": {},
   "outputs": [
    {
     "name": "stdout",
     "output_type": "stream",
     "text": [
      "\t 1 \t Bridging the Gap between Intrinsic and Perceived Relevance in Snippet Generation -- He, Jing and Duboue, Pablo and Nie,  Jian-Yun\n",
      "\t 2 \t Extractive email thread summarization: Can we do better than He Said She Said? -- Pablo A. Duboue\n",
      "\t 3 \t On The Feasibility of Open Domain Referring Expression Generation Using Large Scale Folksonomies -- Pacheco, Fabian  and  Duboue, Pablo  and  Dominguez, Martin\n",
      "\t 4 \t Hunter Gatherer: UdeM at 1Click-2 -- Duboue, Pablo and He, Jing and Nie, Jian-Yun\n",
      "\t 5 \t Deobfuscating Name Scrambling as a Natural Language Generation Task -- Duboue, Pablo Ariel\n"
     ]
    }
   ],
   "source": [
    "for idx, pp in enumerate(p.search(\"summarization\", limit=5)):\n",
    "    print(\"\\t\", (idx+1), \"\\t\", pp['paper']['text'])"
   ]
  },
  {
   "cell_type": "markdown",
   "metadata": {},
   "source": [
    "## Boolean queries"
   ]
  },
  {
   "cell_type": "code",
   "execution_count": 9,
   "metadata": {},
   "outputs": [
    {
     "name": "stdout",
     "output_type": "stream",
     "text": [
      "\t 1 \t Bridging the Gap between Intrinsic and Perceived Relevance in Snippet Generation -- He, Jing and Duboue, Pablo and Nie,  Jian-Yun\n",
      "\t 2 \t On The Feasibility of Open Domain Referring Expression Generation Using Large Scale Folksonomies -- Pacheco, Fabian  and  Duboue, Pablo  and  Dominguez, Martin\n",
      "\t 3 \t Deobfuscating Name Scrambling as a Natural Language Generation Task -- Duboue, Pablo Ariel\n"
     ]
    }
   ],
   "source": [
    "for idx, pp in enumerate(p.search(\"summarization AND NOT ( question answering )\", limit=5)):\n",
    "    print(\"\\t\", (idx+1), \"\\t\", pp['paper']['text'])"
   ]
  },
  {
   "cell_type": "code",
   "execution_count": 10,
   "metadata": {},
   "outputs": [
    {
     "name": "stdout",
     "output_type": "stream",
     "text": [
      "\t 1 \t Bridging the Gap between Intrinsic and Perceived Relevance in Snippet Generation -- He, Jing and Duboue, Pablo and Nie,  Jian-Yun\n",
      "\t 2 \t Improving {QA} Accuracy by Question Inversion -- John M. Prager and Pablo A. Duboue and Jennifer Chu-Carroll\n"
     ]
    }
   ],
   "source": [
    "for idx, pp in enumerate(p.search(\"feature AND selection AND NOT ( dimensionality OR reduction)\")):\n",
    "    print(\"\\t\", (idx+1), \"\\t\", pp['paper']['text'])"
   ]
  },
  {
   "cell_type": "code",
   "execution_count": 11,
   "metadata": {},
   "outputs": [
    {
     "name": "stdout",
     "output_type": "stream",
     "text": [
      "\t 1 \t Answering the question you wish they had asked: The impact of paraphrasing for Question Answering -- Pablo A. Duboue and Jennifer Chu-Carroll\n",
      "\t 2 \t Statistical Acquisition of Content Selection Rules for Natural Language Generation -- Pablo A. Duboue and Kathleen R. McKeown\n",
      "\t 3 \t Bridging the Gap between Intrinsic and Perceived Relevance in Snippet Generation -- He, Jing and Duboue, Pablo and Nie,  Jian-Yun\n",
      "\t 4 \t Improving {QA} Accuracy by Question Inversion -- John M. Prager and Pablo A. Duboue and Jennifer Chu-Carroll\n"
     ]
    }
   ],
   "source": [
    "for idx, pp in enumerate(p.search(\"feature AND selection\")):\n",
    "    print(\"\\t\", (idx+1), \"\\t\", pp['paper']['text'])"
   ]
  }
 ],
 "metadata": {
  "kernelspec": {
   "display_name": "paperapp",
   "language": "python",
   "name": "paperapp"
  },
  "language_info": {
   "codemirror_mode": {
    "name": "ipython",
    "version": 3
   },
   "file_extension": ".py",
   "mimetype": "text/x-python",
   "name": "python",
   "nbconvert_exporter": "python",
   "pygments_lexer": "ipython3",
   "version": "3.8.6"
  }
 },
 "nbformat": 4,
 "nbformat_minor": 4
}
